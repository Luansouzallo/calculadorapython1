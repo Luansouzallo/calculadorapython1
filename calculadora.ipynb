{
 "cells": [
  {
   "cell_type": "code",
   "execution_count": 1,
   "id": "df2f969c",
   "metadata": {},
   "outputs": [
    {
     "name": "stdout",
     "output_type": "stream",
     "text": [
      "\n",
      "******************* Python Calculator *******************\n"
     ]
    }
   ],
   "source": [
    "print(\"\\n******************* Python Calculator *******************\")\n"
   ]
  },
  {
   "cell_type": "code",
   "execution_count": 2,
   "id": "ef83b57c",
   "metadata": {},
   "outputs": [
    {
     "name": "stdout",
     "output_type": "stream",
     "text": [
      "Versão da Linguagem Python Usada Neste Jupyter Notebook: 3.9.13\n"
     ]
    }
   ],
   "source": [
    "from platform import python_version\n",
    "print('Versão da Linguagem Python Usada Neste Jupyter Notebook:', python_version())"
   ]
  },
  {
   "cell_type": "code",
   "execution_count": 35,
   "id": "7b9e38f0",
   "metadata": {},
   "outputs": [
    {
     "name": "stdout",
     "output_type": "stream",
     "text": [
      "Selecione o número da operação desejada: \n",
      " 1 - Adição\n",
      " 2 - Subtração \n",
      " 3 - Divisão \n",
      " 4 - Multiplicação \n",
      "Selecione uma opção:[1/2/3/4]:.3\n",
      "Digite o primeiro valor: 500\n",
      "Digite o segundo valor: 2\n",
      "O valor da divisão de 500 + 2 é igual a: 250.0.\n"
     ]
    }
   ],
   "source": [
    "operação = input(\"Selecione o número da operação desejada: \\n 1 - Adição\\n 2 - Subtração \\n 3 - Divisão \\n 4 - Multiplicação \\nSelecione uma opção:[1/2/3/4]:.\")\n",
    "if operação == \"1\":\n",
    "    numero1 = input (\"Digite o primeiro valor: \")\n",
    "    numero2 = input (\"Digite o segundo valor: \")\n",
    "    soma = (int(numero1) + int(numero2))\n",
    "    print('O valor da soma de %s + %s é igual a: %s.' %(numero1, numero2, soma))\n",
    "elif operação == \"2\":\n",
    "    numero1 = input (\"Digite o primeiro valor: \")\n",
    "    numero2 = input (\"Digite o segundo valor: \")\n",
    "    subtração = (int(numero1) - int(numero2))\n",
    "    print('O valor da subtração de %s - %s é igual a: %s.' %(numero1, numero2, subtração))\n",
    "elif operação == \"3\":\n",
    "    numero1 = input (\"Digite o primeiro valor: \")\n",
    "    numero2 = input (\"Digite o segundo valor: \")\n",
    "    divisão = (int(numero1) / int(numero2))\n",
    "    print('O valor da divisão de %s / %s é igual a: %s.' %(numero1, numero2, divisão))\n",
    "elif operação == \"4\":\n",
    "    numero1 = input (\"Digite o primeiro valor: \")\n",
    "    numero2 = input (\"Digite o segundo valor: \")\n",
    "    multiplicação = (int(numero1) * int(numero2))\n",
    "    print('O valor da multiplicação de %s * %s é igual a: %s.' %(numero1, numero2, multiplicação))\n",
    "else:\n",
    "    print(\"Digite um valor válido!\")\n",
    "           "
   ]
  },
  {
   "cell_type": "code",
   "execution_count": null,
   "id": "e25d3e79",
   "metadata": {},
   "outputs": [],
   "source": []
  },
  {
   "cell_type": "code",
   "execution_count": null,
   "id": "fc7abee9",
   "metadata": {},
   "outputs": [],
   "source": []
  }
 ],
 "metadata": {
  "kernelspec": {
   "display_name": "Python 3 (ipykernel)",
   "language": "python",
   "name": "python3"
  },
  "language_info": {
   "codemirror_mode": {
    "name": "ipython",
    "version": 3
   },
   "file_extension": ".py",
   "mimetype": "text/x-python",
   "name": "python",
   "nbconvert_exporter": "python",
   "pygments_lexer": "ipython3",
   "version": "3.9.13"
  }
 },
 "nbformat": 4,
 "nbformat_minor": 5
}
